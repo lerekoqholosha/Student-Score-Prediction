{
  "nbformat": 4,
  "nbformat_minor": 0,
  "metadata": {
    "colab": {
      "name": "SparksTask1.ipynb",
      "provenance": []
    },
    "kernelspec": {
      "name": "python3",
      "display_name": "Python 3"
    },
    "language_info": {
      "name": "python"
    }
  },
  "cells": [
    {
      "cell_type": "markdown",
      "metadata": {
        "id": "6Dl1r3Ce-d7D"
      },
      "source": [
        "#Prediction using Supervised ML\n",
        "\n",
        "**The problem statement:**\n",
        "\n",
        ".Predict the percentage of an student based on no. of study hours."
      ]
    },
    {
      "cell_type": "markdown",
      "metadata": {
        "id": "hDP6ciRJ_dDt"
      },
      "source": [
        "This a simple linear rergression as it involves just 2 variables\n",
        "\n",
        ".Hours\n",
        "\n",
        ".Exam Score"
      ]
    },
    {
      "cell_type": "markdown",
      "metadata": {
        "id": "ZwcMQgb__1Lt"
      },
      "source": [
        "##Step 1 Load the Dataset\n",
        "We will load the dataset that contains the following 25 varaiables:\n",
        "\n",
        ".Total hours studied for some exam\n",
        "\n",
        ".Exam score"
      ]
    },
    {
      "cell_type": "code",
      "metadata": {
        "id": "wECG90bFuL9p"
      },
      "source": [
        "#import pandas first:\n",
        "import pandas as pd\n",
        "\n",
        "#load data:\n",
        "df=pd.read_csv('/content/student_scores - student_scores.csv')"
      ],
      "execution_count": null,
      "outputs": []
    },
    {
      "cell_type": "code",
      "metadata": {
        "colab": {
          "base_uri": "https://localhost:8080/",
          "height": 205
        },
        "id": "zPH223qMBJAg",
        "outputId": "170c9727-fff0-4d77-c241-8bba5dfae1e2"
      },
      "source": [
        "#display the first 5 rows of dataframe:\n",
        "df.head()"
      ],
      "execution_count": null,
      "outputs": [
        {
          "output_type": "execute_result",
          "data": {
            "text/html": [
              "<div>\n",
              "<style scoped>\n",
              "    .dataframe tbody tr th:only-of-type {\n",
              "        vertical-align: middle;\n",
              "    }\n",
              "\n",
              "    .dataframe tbody tr th {\n",
              "        vertical-align: top;\n",
              "    }\n",
              "\n",
              "    .dataframe thead th {\n",
              "        text-align: right;\n",
              "    }\n",
              "</style>\n",
              "<table border=\"1\" class=\"dataframe\">\n",
              "  <thead>\n",
              "    <tr style=\"text-align: right;\">\n",
              "      <th></th>\n",
              "      <th>Hours</th>\n",
              "      <th>Scores</th>\n",
              "    </tr>\n",
              "  </thead>\n",
              "  <tbody>\n",
              "    <tr>\n",
              "      <th>0</th>\n",
              "      <td>2.5</td>\n",
              "      <td>21</td>\n",
              "    </tr>\n",
              "    <tr>\n",
              "      <th>1</th>\n",
              "      <td>5.1</td>\n",
              "      <td>47</td>\n",
              "    </tr>\n",
              "    <tr>\n",
              "      <th>2</th>\n",
              "      <td>3.2</td>\n",
              "      <td>27</td>\n",
              "    </tr>\n",
              "    <tr>\n",
              "      <th>3</th>\n",
              "      <td>8.5</td>\n",
              "      <td>75</td>\n",
              "    </tr>\n",
              "    <tr>\n",
              "      <th>4</th>\n",
              "      <td>3.5</td>\n",
              "      <td>30</td>\n",
              "    </tr>\n",
              "  </tbody>\n",
              "</table>\n",
              "</div>"
            ],
            "text/plain": [
              "   Hours  Scores\n",
              "0    2.5      21\n",
              "1    5.1      47\n",
              "2    3.2      27\n",
              "3    8.5      75\n",
              "4    3.5      30"
            ]
          },
          "metadata": {},
          "execution_count": 3
        }
      ]
    },
    {
      "cell_type": "code",
      "metadata": {
        "colab": {
          "base_uri": "https://localhost:8080/"
        },
        "id": "Tl7s_LjdBaQC",
        "outputId": "41a00705-349c-4274-c5f0-3fe0ab2995ba"
      },
      "source": [
        "#information:\n",
        "df.info()"
      ],
      "execution_count": null,
      "outputs": [
        {
          "output_type": "stream",
          "name": "stdout",
          "text": [
            "<class 'pandas.core.frame.DataFrame'>\n",
            "RangeIndex: 25 entries, 0 to 24\n",
            "Data columns (total 2 columns):\n",
            " #   Column  Non-Null Count  Dtype  \n",
            "---  ------  --------------  -----  \n",
            " 0   Hours   25 non-null     float64\n",
            " 1   Scores  25 non-null     int64  \n",
            "dtypes: float64(1), int64(1)\n",
            "memory usage: 528.0 bytes\n"
          ]
        }
      ]
    },
    {
      "cell_type": "code",
      "metadata": {
        "colab": {
          "base_uri": "https://localhost:8080/",
          "height": 112
        },
        "id": "5XBLWzUoBcKd",
        "outputId": "8c9452c6-d399-48e2-abe7-adb47e8802cd"
      },
      "source": [
        "#descriptive stats\n",
        "df.describe().T"
      ],
      "execution_count": null,
      "outputs": [
        {
          "output_type": "execute_result",
          "data": {
            "text/html": [
              "<div>\n",
              "<style scoped>\n",
              "    .dataframe tbody tr th:only-of-type {\n",
              "        vertical-align: middle;\n",
              "    }\n",
              "\n",
              "    .dataframe tbody tr th {\n",
              "        vertical-align: top;\n",
              "    }\n",
              "\n",
              "    .dataframe thead th {\n",
              "        text-align: right;\n",
              "    }\n",
              "</style>\n",
              "<table border=\"1\" class=\"dataframe\">\n",
              "  <thead>\n",
              "    <tr style=\"text-align: right;\">\n",
              "      <th></th>\n",
              "      <th>count</th>\n",
              "      <th>mean</th>\n",
              "      <th>std</th>\n",
              "      <th>min</th>\n",
              "      <th>25%</th>\n",
              "      <th>50%</th>\n",
              "      <th>75%</th>\n",
              "      <th>max</th>\n",
              "    </tr>\n",
              "  </thead>\n",
              "  <tbody>\n",
              "    <tr>\n",
              "      <th>Hours</th>\n",
              "      <td>25.0</td>\n",
              "      <td>5.012</td>\n",
              "      <td>2.525094</td>\n",
              "      <td>1.1</td>\n",
              "      <td>2.7</td>\n",
              "      <td>4.8</td>\n",
              "      <td>7.4</td>\n",
              "      <td>9.2</td>\n",
              "    </tr>\n",
              "    <tr>\n",
              "      <th>Scores</th>\n",
              "      <td>25.0</td>\n",
              "      <td>51.480</td>\n",
              "      <td>25.286887</td>\n",
              "      <td>17.0</td>\n",
              "      <td>30.0</td>\n",
              "      <td>47.0</td>\n",
              "      <td>75.0</td>\n",
              "      <td>95.0</td>\n",
              "    </tr>\n",
              "  </tbody>\n",
              "</table>\n",
              "</div>"
            ],
            "text/plain": [
              "        count    mean        std   min   25%   50%   75%   max\n",
              "Hours    25.0   5.012   2.525094   1.1   2.7   4.8   7.4   9.2\n",
              "Scores   25.0  51.480  25.286887  17.0  30.0  47.0  75.0  95.0"
            ]
          },
          "metadata": {},
          "execution_count": 8
        }
      ]
    },
    {
      "cell_type": "code",
      "metadata": {
        "colab": {
          "base_uri": "https://localhost:8080/"
        },
        "id": "bVtJadL-BzKS",
        "outputId": "c55041d0-faee-4c64-c160-d70cfe3846b6"
      },
      "source": [
        "#duplicates:\n",
        "df.duplicated()"
      ],
      "execution_count": null,
      "outputs": [
        {
          "output_type": "execute_result",
          "data": {
            "text/plain": [
              "0     False\n",
              "1     False\n",
              "2     False\n",
              "3     False\n",
              "4     False\n",
              "5     False\n",
              "6     False\n",
              "7     False\n",
              "8     False\n",
              "9     False\n",
              "10    False\n",
              "11    False\n",
              "12    False\n",
              "13    False\n",
              "14    False\n",
              "15    False\n",
              "16    False\n",
              "17    False\n",
              "18    False\n",
              "19    False\n",
              "20    False\n",
              "21    False\n",
              "22    False\n",
              "23    False\n",
              "24    False\n",
              "dtype: bool"
            ]
          },
          "metadata": {},
          "execution_count": 9
        }
      ]
    },
    {
      "cell_type": "code",
      "metadata": {
        "colab": {
          "base_uri": "https://localhost:8080/"
        },
        "id": "SYKkJiHjCBWb",
        "outputId": "d4f1f0d1-2786-4454-fab5-34cc137c15e8"
      },
      "source": [
        " #missing values:\n",
        "df.isnull().sum()"
      ],
      "execution_count": null,
      "outputs": [
        {
          "output_type": "execute_result",
          "data": {
            "text/plain": [
              "Hours     0\n",
              "Scores    0\n",
              "dtype: int64"
            ]
          },
          "metadata": {},
          "execution_count": 10
        }
      ]
    },
    {
      "cell_type": "markdown",
      "metadata": {
        "id": "MRIziV1iCQ-r"
      },
      "source": [
        "##Step 2 Visualise Data\n",
        "Before we fit a simple linear regression model, we should first visualize the data to gain an understanding of it"
      ]
    },
    {
      "cell_type": "code",
      "metadata": {
        "id": "Dvsm7NplCGtM"
      },
      "source": [
        "#import matplotlib for viusalising data:\n",
        "import matplotlib.pyplot as plt\n"
      ],
      "execution_count": null,
      "outputs": []
    },
    {
      "cell_type": "code",
      "metadata": {
        "colab": {
          "base_uri": "https://localhost:8080/",
          "height": 295
        },
        "id": "xt0d-QLRCxLZ",
        "outputId": "f291d746-0e1a-4e36-d80c-ec8e7892754e"
      },
      "source": [
        "#create a scatterplot to view the relationship between the two variables:\n",
        "plt.scatter(df.Hours,df.Scores)\n",
        "plt.title('Hours Studied vs. Exam Score')\n",
        "plt.xlabel('Hours')\n",
        "plt.ylabel('Score')\n",
        "plt.show()"
      ],
      "execution_count": null,
      "outputs": [
        {
          "output_type": "display_data",
          "data": {
            "image/png": "[encoded data removed]",
            "text/plain": [
              "<Figure size 432x288 with 1 Axes>"
            ]
          },
          "metadata": {
            "needs_background": "light"
          }
        }
      ]
    },
    {
      "cell_type": "code",
      "metadata": {
        "id": "-NLyTuECDbcm"
      },
      "source": [
        "#From the plot we can see that the relationship does appear to be linear. \n",
        "#As hours increases, score tends to increase as well in a linear fashion."
      ],
      "execution_count": null,
      "outputs": []
    },
    {
      "cell_type": "code",
      "metadata": {
        "colab": {
          "base_uri": "https://localhost:8080/",
          "height": 283
        },
        "id": "3bs1nwHtESnG",
        "outputId": "165bbfea-92c6-4b9a-f6c6-39adb6eb56bc"
      },
      "source": [
        "#create a boxplot to visualize the distribution of exam scores and check for outliers:\n",
        "df.boxplot(column=['Scores'])"
      ],
      "execution_count": null,
      "outputs": [
        {
          "output_type": "execute_result",
          "data": {
            "text/plain": [
              "<matplotlib.axes._subplots.AxesSubplot at 0x7f11fe2762d0>"
            ]
          },
          "metadata": {},
          "execution_count": 17
        },
        {
          "output_type": "display_data",
          "data": {
            "image/png": "[encoded data removed]",
            "text/plain": [
              "<Figure size 432x288 with 1 Axes>"
            ]
          },
          "metadata": {
            "needs_background": "light"
          }
        }
      ]
    },
    {
      "cell_type": "code",
      "metadata": {
        "id": "8udb2O_OEw1T"
      },
      "source": [
        "#There are no tiny circles in the boxplot, which means there are no outliers in our dataset."
      ],
      "execution_count": null,
      "outputs": []
    },
    {
      "cell_type": "markdown",
      "metadata": {
        "id": "uYY5uPASE-ms"
      },
      "source": [
        "##Step3 Perform Simple Linear Regression\n",
        "Once we’ve confirmed that the relationship between our variables is linear and that there are no outliers present,\n",
        "\n",
        "we can proceed to fit a simple linear regression model using hours as the explanatory variable and score as the response variable:"
      ]
    },
    {
      "cell_type": "code",
      "metadata": {
        "id": "1lS7KMesGKLM"
      },
      "source": [
        "#Split data into explanatory and response variable:\n",
        "\n",
        "#define response variable:\n",
        "y=df['Scores']\n",
        "\n",
        "#define explanatory variable:\n",
        "x=df[['Hours']]"
      ],
      "execution_count": null,
      "outputs": []
    },
    {
      "cell_type": "code",
      "metadata": {
        "colab": {
          "base_uri": "https://localhost:8080/"
        },
        "id": "V-jTeLixM6Ss",
        "outputId": "4530a4ec-fe39-4222-ff1c-ef0f0603900a"
      },
      "source": [
        "#import statsmodel:\n",
        "import statsmodels.api as sm\n",
        "\n",
        "#add constant to predictor variables:\n",
        "x = sm.add_constant(x)\n",
        "\n",
        "#fit linear regression model:\n",
        "model = sm.OLS(y, x).fit()\n",
        "\n",
        "#view model summary\n",
        "print(model.summary())\n"
      ],
      "execution_count": null,
      "outputs": [
        {
          "output_type": "stream",
          "name": "stderr",
          "text": [
            "/usr/local/lib/python3.7/dist-packages/statsmodels/tools/_testing.py:19: FutureWarning: pandas.util.testing is deprecated. Use the functions in the public API at pandas.testing instead.\n",
            "  import pandas.util.testing as tm\n"
          ]
        },
        {
          "output_type": "stream",
          "name": "stdout",
          "text": [
            "                            OLS Regression Results                            \n",
            "==============================================================================\n",
            "Dep. Variable:                 Scores   R-squared:                       0.953\n",
            "Model:                            OLS   Adj. R-squared:                  0.951\n",
            "Method:                 Least Squares   F-statistic:                     465.8\n",
            "Date:                Mon, 01 Nov 2021   Prob (F-statistic):           9.13e-17\n",
            "Time:                        11:15:11   Log-Likelihood:                -77.514\n",
            "No. Observations:                  25   AIC:                             159.0\n",
            "Df Residuals:                      23   BIC:                             161.5\n",
            "Df Model:                           1                                         \n",
            "Covariance Type:            nonrobust                                         \n",
            "==============================================================================\n",
            "                 coef    std err          t      P>|t|      [0.025      0.975]\n",
            "------------------------------------------------------------------------------\n",
            "const          2.4837      2.532      0.981      0.337      -2.753       7.721\n",
            "Hours          9.7758      0.453     21.583      0.000       8.839      10.713\n",
            "==============================================================================\n",
            "Omnibus:                        7.616   Durbin-Watson:                   1.460\n",
            "Prob(Omnibus):                  0.022   Jarque-Bera (JB):                2.137\n",
            "Skew:                          -0.216   Prob(JB):                        0.343\n",
            "Kurtosis:                       1.634   Cond. No.                         13.0\n",
            "==============================================================================\n",
            "\n",
            "Warnings:\n",
            "[1] Standard Errors assume that the covariance matrix of the errors is correctly specified.\n"
          ]
        }
      ]
    },
    {
      "cell_type": "code",
      "metadata": {
        "id": "Ymxz6jJ_M6MB"
      },
      "source": [
        "#From the model summary we can see that the fitted regression equation is:\n",
        "Score=2.4837+9.7758*(hours)"
      ],
      "execution_count": null,
      "outputs": []
    },
    {
      "cell_type": "code",
      "metadata": {
        "id": "cUEB6cMeM6GX"
      },
      "source": [
        "#This means that each additional hour studied is associated with an average\n",
        "#increase in exam score of 9.7758 points.\n",
        "#And the intercept value of 2.4837 tells us the average\n",
        "#expected exam score for a student who studies zero hours."
      ],
      "execution_count": null,
      "outputs": []
    },
    {
      "cell_type": "markdown",
      "metadata": {
        "id": "6VSwR7l0KLDo"
      },
      "source": [
        "**We can look at what will be a predicted score if student studies for 9.25hrs/day ?**"
      ]
    },
    {
      "cell_type": "code",
      "metadata": {
        "colab": {
          "base_uri": "https://localhost:8080/"
        },
        "id": "IXO76K5JMAcZ",
        "outputId": "46de319b-1714-475b-8b45-29bcb323000a"
      },
      "source": [
        "Score=2.4837+9.7758*(9.25)\n",
        "Score"
      ],
      "execution_count": null,
      "outputs": [
        {
          "output_type": "execute_result",
          "data": {
            "text/plain": [
              "92.90985"
            ]
          },
          "metadata": {},
          "execution_count": 55
        }
      ]
    },
    {
      "cell_type": "code",
      "metadata": {
        "id": "yluKG3W1PLu8"
      },
      "source": [
        "#A student who studies for 9.25 hours is expected to receive an exam score of 92.90985"
      ],
      "execution_count": null,
      "outputs": []
    },
    {
      "cell_type": "markdown",
      "metadata": {
        "id": "wwo11eOaPjiB"
      },
      "source": [
        "##Step Create a Residual Plots\n",
        "\n",
        "After we’ve fit the simple linear regression model to the data, the last step is to create residual plots."
      ]
    },
    {
      "cell_type": "code",
      "metadata": {
        "colab": {
          "base_uri": "https://localhost:8080/",
          "height": 585
        },
        "id": "icRMf-0VPwGu",
        "outputId": "4eb5455f-b53c-45b2-b617-9aa7dca04f3c"
      },
      "source": [
        "#Residual vs. fitted values plot:\n",
        "\n",
        "#define figure size\n",
        "fig = plt.figure(figsize=(12,8))\n",
        "\n",
        "#produce residual plots\n",
        "fig = sm.graphics.plot_regress_exog(model, 'Hours', fig=fig)"
      ],
      "execution_count": null,
      "outputs": [
        {
          "output_type": "display_data",
          "data": {
            "image/png": "[encoded data removed]",
            "text/plain": [
              "<Figure size 864x576 with 4 Axes>"
            ]
          },
          "metadata": {
            "needs_background": "light"
          }
        }
      ]
    },
    {
      "cell_type": "markdown",
      "metadata": {
        "id": "K7OGVJrOQeZh"
      },
      "source": [
        "**Interpreting graphs**\n",
        "\n",
        "1. The one in the top right corner is the residual vs. fitted plot. \n",
        "\n",
        "The x-axis on this plot shows the actual values for the predictor variable points and the y-axis shows the residual for that value.\n",
        "\n",
        "2. Since the residuals appear to be randomly scattered around zero, this is an indication that heteroscedasticity is not a problem with the explanatory variable."
      ]
    },
    {
      "cell_type": "markdown",
      "metadata": {
        "id": "8aaPnK5gRAJ1"
      },
      "source": [
        "`Q-Q plot:` This plot is useful for determining if the residuals follow a normal distribution.\n",
        "\n",
        "`If the data values in the plot fall along a roughly straight line at a 45-degree angle, then the data is normally distributed`"
      ]
    },
    {
      "cell_type": "code",
      "metadata": {
        "colab": {
          "base_uri": "https://localhost:8080/",
          "height": 279
        },
        "id": "_FPFMkpVQQCZ",
        "outputId": "bc955fa2-665c-4bfd-836c-2bdb747da2f1"
      },
      "source": [
        "#define residuals\n",
        "res = model.resid\n",
        "\n",
        "#create Q-Q plot\n",
        "fig = sm.qqplot(res, fit=True, line=\"45\")\n",
        "plt.show()"
      ],
      "execution_count": null,
      "outputs": [
        {
          "output_type": "display_data",
          "data": {
            "image/png": "[encoded data removed]",
            "text/plain": [
              "<Figure size 432x288 with 1 Axes>"
            ]
          },
          "metadata": {
            "needs_background": "light"
          }
        }
      ]
    },
    {
      "cell_type": "markdown",
      "metadata": {
        "id": "rRKYgIFmRkai"
      },
      "source": [
        "The residuals stray from the 45-degree line a bit, but not enough to cause serious concern. We can assume that the normality assumption is met."
      ]
    },
    {
      "cell_type": "code",
      "metadata": {
        "id": "vMxMKkZzRZkm"
      },
      "source": [
        ""
      ],
      "execution_count": null,
      "outputs": []
    }
  ]
}